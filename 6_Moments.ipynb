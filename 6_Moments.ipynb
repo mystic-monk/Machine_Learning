{
  "nbformat": 4,
  "nbformat_minor": 0,
  "metadata": {
    "kernelspec": {
      "display_name": "Python 2",
      "language": "python",
      "name": "python2"
    },
    "language_info": {
      "codemirror_mode": {
        "name": "ipython",
        "version": 2
      },
      "file_extension": ".py",
      "mimetype": "text/x-python",
      "name": "python",
      "nbconvert_exporter": "python",
      "pygments_lexer": "ipython2",
      "version": "2.7.11"
    },
    "colab": {
      "name": "6-Moments.ipynb",
      "provenance": []
    }
  },
  "cells": [
    {
      "cell_type": "markdown",
      "metadata": {
        "id": "Cl9nDgiWbp76"
      },
      "source": [
        "# Moments: Mean, Variance, Skew, Kurtosis"
      ]
    },
    {
      "cell_type": "markdown",
      "metadata": {
        "id": "w3jod0Jfbp77"
      },
      "source": [
        "Create a roughly normal-distributed random set of data:"
      ]
    },
    {
      "cell_type": "code",
      "metadata": {
        "id": "K94OuGJQbp78",
        "outputId": "f685072a-2a86-433f-a99c-b6cd469c5db6",
        "colab": {
          "base_uri": "https://localhost:8080/",
          "height": 269
        }
      },
      "source": [
        "%matplotlib inline\n",
        "import numpy as np\n",
        "import matplotlib.pyplot as plt\n",
        "\n",
        "vals = np.random.normal(0, 0.5, 10000)\n",
        "\n",
        "plt.hist(vals, 50)\n",
        "plt.show()"
      ],
      "execution_count": 6,
      "outputs": [
        {
          "output_type": "display_data",
          "data": {
            "image/png": "[encoded data removed]",
            "text/plain": [
              "<Figure size 432x288 with 1 Axes>"
            ]
          },
          "metadata": {
            "tags": [],
            "needs_background": "light"
          }
        }
      ]
    },
    {
      "cell_type": "markdown",
      "metadata": {
        "id": "ejf_FKjJbp8C"
      },
      "source": [
        "The first moment is the mean; this data should average out to about 0:"
      ]
    },
    {
      "cell_type": "code",
      "metadata": {
        "id": "ruejbCTRbp8D",
        "outputId": "b8a603c4-7c5c-4685-eb9e-ad0af518b6b5",
        "colab": {
          "base_uri": "https://localhost:8080/",
          "height": 34
        }
      },
      "source": [
        "np.mean(vals)"
      ],
      "execution_count": 7,
      "outputs": [
        {
          "output_type": "execute_result",
          "data": {
            "text/plain": [
              "-0.0013335887732236745"
            ]
          },
          "metadata": {
            "tags": []
          },
          "execution_count": 7
        }
      ]
    },
    {
      "cell_type": "markdown",
      "metadata": {
        "id": "47NaNqAMbp8G"
      },
      "source": [
        "The second moment is the variance:"
      ]
    },
    {
      "cell_type": "code",
      "metadata": {
        "id": "8t61h8qbbp8H",
        "outputId": "6a7b7ee5-c442-43ff-b747-5cf74874dd0c",
        "colab": {
          "base_uri": "https://localhost:8080/",
          "height": 34
        }
      },
      "source": [
        "np.var(vals)"
      ],
      "execution_count": 8,
      "outputs": [
        {
          "output_type": "execute_result",
          "data": {
            "text/plain": [
              "0.2502885495360415"
            ]
          },
          "metadata": {
            "tags": []
          },
          "execution_count": 8
        }
      ]
    },
    {
      "cell_type": "markdown",
      "metadata": {
        "id": "PpjTDhzObp8L"
      },
      "source": [
        "The third moment is skew - since our data is nicely centered around 0, it should be almost 0:"
      ]
    },
    {
      "cell_type": "code",
      "metadata": {
        "id": "gsN34Kmabp8M",
        "outputId": "0ab98e50-95db-42fa-993d-9521fa24ba13",
        "colab": {
          "base_uri": "https://localhost:8080/",
          "height": 34
        }
      },
      "source": [
        "import scipy.stats as sp\n",
        "sp.skew(vals)"
      ],
      "execution_count": 9,
      "outputs": [
        {
          "output_type": "execute_result",
          "data": {
            "text/plain": [
              "0.004247444526784052"
            ]
          },
          "metadata": {
            "tags": []
          },
          "execution_count": 9
        }
      ]
    },
    {
      "cell_type": "markdown",
      "metadata": {
        "id": "wbDzc_q_bp8P"
      },
      "source": [
        "The fourth moment is \"kurtosis\", which describes the shape of the tail. For a normal distribution, this is 0:"
      ]
    },
    {
      "cell_type": "code",
      "metadata": {
        "id": "8W5g2dyzbp8P",
        "outputId": "9263736e-5e5b-49f4-ed13-a99de891a6f3",
        "colab": {
          "base_uri": "https://localhost:8080/",
          "height": 34
        }
      },
      "source": [
        "sp.kurtosis(vals)"
      ],
      "execution_count": 10,
      "outputs": [
        {
          "output_type": "execute_result",
          "data": {
            "text/plain": [
              "-0.017602149547170765"
            ]
          },
          "metadata": {
            "tags": []
          },
          "execution_count": 10
        }
      ]
    },
    {
      "cell_type": "markdown",
      "metadata": {
        "id": "tFRJXU-Vbp8S"
      },
      "source": [
        "## Activity"
      ]
    },
    {
      "cell_type": "markdown",
      "metadata": {
        "id": "RYWg8oIXbp8S"
      },
      "source": [
        "Understanding skew: change the normal distribution to be centered around 10 instead of 0, and see what effect that has on the moments.\n",
        "\n",
        "The skew is still near zero; skew is associated with the shape of the distribution, not its actual offset in X."
      ]
    },
    {
      "cell_type": "code",
      "metadata": {
        "id": "6ZeIuRZybp8T"
      },
      "source": [
        ""
      ],
      "execution_count": null,
      "outputs": []
    }
  ]
}