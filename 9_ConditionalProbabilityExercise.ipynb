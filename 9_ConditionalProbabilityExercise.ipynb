{
  "nbformat": 4,
  "nbformat_minor": 0,
  "metadata": {
    "kernelspec": {
      "display_name": "Python 2",
      "language": "python",
      "name": "python2"
    },
    "language_info": {
      "codemirror_mode": {
        "name": "ipython",
        "version": 2
      },
      "file_extension": ".py",
      "mimetype": "text/x-python",
      "name": "python",
      "nbconvert_exporter": "python",
      "pygments_lexer": "ipython2",
      "version": "2.7.11"
    },
    "colab": {
      "name": "9-ConditionalProbabilityExercise.ipynb",
      "provenance": [],
      "collapsed_sections": []
    }
  },
  "cells": [
    {
      "cell_type": "markdown",
      "metadata": {
        "id": "naH2VYA9vnEs"
      },
      "source": [
        "# Conditional Probability Activity & Exercise"
      ]
    },
    {
      "cell_type": "markdown",
      "metadata": {
        "id": "oC7KWScmvnEt"
      },
      "source": [
        "Below is some code to create some fake data on how much stuff people purchase given their age range.\n",
        "\n",
        "It generates 100,000 random \"people\" and randomly assigns them as being in their 20's, 30's, 40's, 50's, 60's, or 70's.\n",
        "\n",
        "It then assigns a lower probability for young people to buy stuff.\n",
        "\n",
        "In the end, we have two Python dictionaries:\n",
        "\n",
        "\"totals\" contains the total number of people in each age group.\n",
        "\"purchases\" contains the total number of things purchased by people in each age group.\n",
        "The grand total of purchases is in totalPurchases, and we know the total number of people is 100,000.\n",
        "\n",
        "Let's run it and have a look:"
      ]
    },
    {
      "cell_type": "code",
      "metadata": {
        "id": "-_UM2HjovnEu"
      },
      "source": [
        "from numpy import random\n",
        "random.seed(0)\n",
        "\n",
        "totals = {20:0, 30:0, 40:0, 50:0, 60:0, 70:0}\n",
        "purchases = {20:0, 30:0, 40:0, 50:0, 60:0, 70:0}\n",
        "totalPurchases = 0\n",
        "for _ in range(100000):\n",
        "    ageDecade = random.choice([20, 30, 40, 50, 60, 70])\n",
        "    purchaseProbability = float(ageDecade) / 100.0\n",
        "    totals[ageDecade] += 1\n",
        "    if (random.random() < purchaseProbability):\n",
        "        totalPurchases += 1\n",
        "        purchases[ageDecade] += 1"
      ],
      "execution_count": 1,
      "outputs": []
    },
    {
      "cell_type": "code",
      "metadata": {
        "id": "PJgDlJsGvnEx",
        "outputId": "c8b409f7-ea57-4ec8-80dc-1bd06ff63f21",
        "colab": {
          "base_uri": "https://localhost:8080/",
          "height": 34
        }
      },
      "source": [
        "totals"
      ],
      "execution_count": 2,
      "outputs": [
        {
          "output_type": "execute_result",
          "data": {
            "text/plain": [
              "{20: 16576, 30: 16619, 40: 16632, 50: 16805, 60: 16664, 70: 16704}"
            ]
          },
          "metadata": {
            "tags": []
          },
          "execution_count": 2
        }
      ]
    },
    {
      "cell_type": "code",
      "metadata": {
        "id": "WmKNvZWrvnE1",
        "outputId": "937951d7-112d-4659-835e-9add11916af8",
        "colab": {
          "base_uri": "https://localhost:8080/",
          "height": 34
        }
      },
      "source": [
        "purchases"
      ],
      "execution_count": 3,
      "outputs": [
        {
          "output_type": "execute_result",
          "data": {
            "text/plain": [
              "{20: 3392, 30: 4974, 40: 6670, 50: 8319, 60: 9944, 70: 11713}"
            ]
          },
          "metadata": {
            "tags": []
          },
          "execution_count": 3
        }
      ]
    },
    {
      "cell_type": "code",
      "metadata": {
        "id": "SdUVFoAevnE4",
        "outputId": "7eca7c64-4878-4ece-d5c5-5f5952c4c541",
        "colab": {
          "base_uri": "https://localhost:8080/",
          "height": 34
        }
      },
      "source": [
        "totalPurchases"
      ],
      "execution_count": 4,
      "outputs": [
        {
          "output_type": "execute_result",
          "data": {
            "text/plain": [
              "45012"
            ]
          },
          "metadata": {
            "tags": []
          },
          "execution_count": 4
        }
      ]
    },
    {
      "cell_type": "markdown",
      "metadata": {
        "id": "NhCYSljgvnE7"
      },
      "source": [
        "Let's play with conditional probability.\n",
        "\n",
        "First let's compute P(E|F), where E is \"purchase\" and F is \"you're in your 30's\". The probability of someone in their 30's buying something is just the percentage of how many 30-year-olds bought something:"
      ]
    },
    {
      "cell_type": "code",
      "metadata": {
        "id": "r0woSEabvnE8",
        "outputId": "76c87ada-83ab-465b-9d74-9b8043775e12",
        "colab": {
          "base_uri": "https://localhost:8080/",
          "height": 34
        }
      },
      "source": [
        "PEF = float(purchases[30]) / float(totals[30])\n",
        "print('P(purchase | 30s): ' + str(PEF))"
      ],
      "execution_count": 6,
      "outputs": [
        {
          "output_type": "stream",
          "text": [
            "P(purchase | 30s): 0.299295986521\n"
          ],
          "name": "stdout"
        }
      ]
    },
    {
      "cell_type": "markdown",
      "metadata": {
        "id": "ics-kTFSvnE-"
      },
      "source": [
        "P(F) is just the probability of being 30 in this data set:"
      ]
    },
    {
      "cell_type": "code",
      "metadata": {
        "id": "fXnB8kgQvnE_",
        "outputId": "1b4763d9-9f18-4389-f9a6-122d3a72a725",
        "colab": {
          "base_uri": "https://localhost:8080/",
          "height": 34
        }
      },
      "source": [
        "PF = float(totals[30]) / 100000.0\n",
        "print(\"P(30's): \" +  str(PF))"
      ],
      "execution_count": 7,
      "outputs": [
        {
          "output_type": "stream",
          "text": [
            "P(30's): 0.16619\n"
          ],
          "name": "stdout"
        }
      ]
    },
    {
      "cell_type": "markdown",
      "metadata": {
        "id": "ym7eVacuvnFC"
      },
      "source": [
        "And P(E) is the overall probability of buying something, regardless of your age:"
      ]
    },
    {
      "cell_type": "code",
      "metadata": {
        "id": "YHeOIeazvnFC",
        "outputId": "bc1f0e33-e604-41af-960a-44bdde935f86",
        "colab": {
          "base_uri": "https://localhost:8080/",
          "height": 34
        }
      },
      "source": [
        "PE = float(totalPurchases) / 100000.0\n",
        "print(\"P(Purchase):\" + str(PE))"
      ],
      "execution_count": 8,
      "outputs": [
        {
          "output_type": "stream",
          "text": [
            "P(Purchase):0.45012\n"
          ],
          "name": "stdout"
        }
      ]
    },
    {
      "cell_type": "markdown",
      "metadata": {
        "id": "ge8u1GnxvnFG"
      },
      "source": [
        "If E and F were independent, then we would expect P(E | F) to be about the same as P(E). But they're not; PE is 0.45, and P(E|F) is 0.3. So, that tells us that E and F are dependent (which we know they are in this example.)\n",
        "\n",
        "What is P(E)P(F)?"
      ]
    },
    {
      "cell_type": "code",
      "metadata": {
        "id": "H7TTjTxXvnFG",
        "outputId": "7c6ee0e2-76c4-4770-db48-3a76d33cb3e8",
        "colab": {
          "base_uri": "https://localhost:8080/",
          "height": 34
        }
      },
      "source": [
        "print(\"P(30's)P(Purchase)\" + str(PE * PF))"
      ],
      "execution_count": 9,
      "outputs": [
        {
          "output_type": "stream",
          "text": [
            "P(30's)P(Purchase)0.0748054428\n"
          ],
          "name": "stdout"
        }
      ]
    },
    {
      "cell_type": "markdown",
      "metadata": {
        "id": "J4gg14eUvnFI"
      },
      "source": [
        "P(E,F) is different from P(E|F). P(E,F) would be the probability of both being in your 30's and buying something, out of the total population - not just the population of people in their 30's:"
      ]
    },
    {
      "cell_type": "code",
      "metadata": {
        "id": "v9PthW1gvnFJ",
        "outputId": "a1715915-f899-4bea-d1d1-3114c9820926",
        "colab": {
          "base_uri": "https://localhost:8080/",
          "height": 34
        }
      },
      "source": [
        "print(\"P(30's, Purchase)\" + str(float(purchases[30]) / 100000.0))"
      ],
      "execution_count": 10,
      "outputs": [
        {
          "output_type": "stream",
          "text": [
            "P(30's, Purchase)0.04974\n"
          ],
          "name": "stdout"
        }
      ]
    },
    {
      "cell_type": "markdown",
      "metadata": {
        "id": "8MjaTpfuvnFL"
      },
      "source": [
        "P(E,F) = P(E)P(F), and they are pretty close in this example. But because E and F are actually dependent on each other, and the randomness of the data we're working with, it's not quite the same.\n",
        "\n",
        "We can also check that P(E|F) = P(E,F)/P(F) and sure enough, it is:"
      ]
    },
    {
      "cell_type": "code",
      "metadata": {
        "id": "E_f5YBq8vnFL",
        "outputId": "8e1354ba-410d-4137-a15d-f596d1aa620c",
        "colab": {
          "base_uri": "https://localhost:8080/",
          "height": 34
        }
      },
      "source": [
        "print((purchases[30] / 100000.0) / PF)"
      ],
      "execution_count": 11,
      "outputs": [
        {
          "output_type": "stream",
          "text": [
            "0.299295986521\n"
          ],
          "name": "stdout"
        }
      ]
    },
    {
      "cell_type": "markdown",
      "metadata": {
        "id": "GdIjiIW4vnFO"
      },
      "source": [
        "## Your Assignment"
      ]
    },
    {
      "cell_type": "markdown",
      "metadata": {
        "id": "oxBucPFevnFO"
      },
      "source": [
        "Modify the code above such that the purchase probability does NOT vary with age, making E and F actually independent.\n",
        "\n",
        "Then, confirm that P(E|F) is about the same as P(E), showing that the conditional probability of purchase for a given age is not any different than the a-priori probability of purchase regardless of age.\n"
      ]
    },
    {
      "cell_type": "code",
      "metadata": {
        "id": "i4Fcc3wivnFP"
      },
      "source": [
        ""
      ],
      "execution_count": null,
      "outputs": []
    }
  ]
}