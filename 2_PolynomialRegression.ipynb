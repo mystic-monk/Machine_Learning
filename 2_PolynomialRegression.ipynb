{
  "nbformat": 4,
  "nbformat_minor": 0,
  "metadata": {
    "kernelspec": {
      "display_name": "Python 3",
      "language": "python",
      "name": "python3"
    },
    "language_info": {
      "codemirror_mode": {
        "name": "ipython",
        "version": 3
      },
      "file_extension": ".py",
      "mimetype": "text/x-python",
      "name": "python",
      "nbconvert_exporter": "python",
      "pygments_lexer": "ipython3",
      "version": "3.7.3"
    },
    "colab": {
      "name": "2-PolynomialRegression.ipynb",
      "provenance": []
    }
  },
  "cells": [
    {
      "cell_type": "markdown",
      "metadata": {
        "id": "t1Q0E1BlZ3Ty"
      },
      "source": [
        "# Polynomial Regression"
      ]
    },
    {
      "cell_type": "markdown",
      "metadata": {
        "id": "GQ_wlwNMZ3Tz"
      },
      "source": [
        "What if your data doesn't look linear at all? Let's look at some more realistic-looking page speed / purchase data:"
      ]
    },
    {
      "cell_type": "code",
      "metadata": {
        "id": "MVLcotK9Z3T0",
        "outputId": "367d2d98-7587-4f22-9a9f-2d5bf6a67816",
        "colab": {
          "base_uri": "https://localhost:8080/",
          "height": 282
        }
      },
      "source": [
        "%matplotlib inline\n",
        "from pylab import *\n",
        "import numpy as np\n",
        "\n",
        "np.random.seed(2)\n",
        "pageSpeeds = np.random.normal(3.0, 1.0, 1000)\n",
        "purchaseAmount = np.random.normal(50.0, 10.0, 1000) / pageSpeeds\n",
        "\n",
        "scatter(pageSpeeds, purchaseAmount)"
      ],
      "execution_count": 1,
      "outputs": [
        {
          "output_type": "execute_result",
          "data": {
            "text/plain": [
              "<matplotlib.collections.PathCollection at 0x7fcafbc29470>"
            ]
          },
          "metadata": {
            "tags": []
          },
          "execution_count": 1
        },
        {
          "output_type": "display_data",
          "data": {
            "image/png": "[encoded data removed]",
            "text/plain": [
              "<Figure size 432x288 with 1 Axes>"
            ]
          },
          "metadata": {
            "tags": [],
            "needs_background": "light"
          }
        }
      ]
    },
    {
      "cell_type": "markdown",
      "metadata": {
        "id": "v9Moux1pZ3T3"
      },
      "source": [
        "numpy has a handy polyfit function we can use, to let us construct an nth-degree polynomial model of our data that minimizes squared error. Let's try it with a 4th degree polynomial:"
      ]
    },
    {
      "cell_type": "code",
      "metadata": {
        "id": "PQS_zpIFZ3T4"
      },
      "source": [
        "x = np.array(pageSpeeds)\n",
        "y = np.array(purchaseAmount)\n",
        "\n",
        "p4 = np.poly1d(np.polyfit(x, y, 9))\n"
      ],
      "execution_count": 2,
      "outputs": []
    },
    {
      "cell_type": "markdown",
      "metadata": {
        "id": "PPV79-QHZ3T8"
      },
      "source": [
        "We'll visualize our original scatter plot, together with a plot of our predicted values using the polynomial for page speed times ranging from 0-7 seconds:"
      ]
    },
    {
      "cell_type": "code",
      "metadata": {
        "id": "2bJWztwmZ3T9",
        "outputId": "270d9e9f-e54b-45f8-b874-4cb81519bbe5",
        "colab": {
          "base_uri": "https://localhost:8080/",
          "height": 265
        }
      },
      "source": [
        "import matplotlib.pyplot as plt\n",
        "\n",
        "xp = np.linspace(0, 7, 100)\n",
        "plt.scatter(x, y)\n",
        "plt.plot(xp, p4(xp), c='r')\n",
        "plt.show()"
      ],
      "execution_count": 3,
      "outputs": [
        {
          "output_type": "display_data",
          "data": {
            "image/png": "[encoded data removed]",
            "text/plain": [
              "<Figure size 432x288 with 1 Axes>"
            ]
          },
          "metadata": {
            "tags": [],
            "needs_background": "light"
          }
        }
      ]
    },
    {
      "cell_type": "markdown",
      "metadata": {
        "id": "VDLdj4vzZ3T_"
      },
      "source": [
        "Looks pretty good! Let's measure the r-squared error:"
      ]
    },
    {
      "cell_type": "code",
      "metadata": {
        "id": "0g1uCqnzZ3T_",
        "outputId": "f8212fb1-e7d0-444d-fd23-02b779975e95",
        "colab": {
          "base_uri": "https://localhost:8080/",
          "height": 34
        }
      },
      "source": [
        "from sklearn.metrics import r2_score\n",
        "\n",
        "r2 = r2_score(y, p4(x))\n",
        "\n",
        "print(r2)\n"
      ],
      "execution_count": 4,
      "outputs": [
        {
          "output_type": "stream",
          "text": [
            "0.8830263256615862\n"
          ],
          "name": "stdout"
        }
      ]
    },
    {
      "cell_type": "markdown",
      "metadata": {
        "id": "N1Ek40V_Z3UC"
      },
      "source": [
        "## Activity"
      ]
    },
    {
      "cell_type": "markdown",
      "metadata": {
        "id": "f76ZT4q_Z3UC"
      },
      "source": [
        "Try different polynomial orders. Can you get a better fit with higher orders? Do you start to see overfitting, even though the r-squared score looks good for this particular data set?"
      ]
    },
    {
      "cell_type": "code",
      "metadata": {
        "id": "RPSMRRe5Z3UD"
      },
      "source": [
        ""
      ],
      "execution_count": null,
      "outputs": []
    }
  ]
}