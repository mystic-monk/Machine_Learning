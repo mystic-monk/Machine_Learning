{
  "nbformat": 4,
  "nbformat_minor": 0,
  "metadata": {
    "kernelspec": {
      "display_name": "Python 3",
      "language": "python",
      "name": "python3"
    },
    "language_info": {
      "codemirror_mode": {
        "name": "ipython",
        "version": 3
      },
      "file_extension": ".py",
      "mimetype": "text/x-python",
      "name": "python",
      "nbconvert_exporter": "python",
      "pygments_lexer": "ipython3",
      "version": "3.7.3"
    },
    "colab": {
      "name": "1-LinearRegression.ipynb",
      "provenance": [],
      "collapsed_sections": []
    }
  },
  "cells": [
    {
      "cell_type": "markdown",
      "metadata": {
        "id": "jIK_ZQ5NZpBW"
      },
      "source": [
        "# Linear Regression"
      ]
    },
    {
      "cell_type": "markdown",
      "metadata": {
        "id": "xnzKfRCzZpBX"
      },
      "source": [
        "Let's fabricate some data that shows a roughly linear relationship between page speed and amount purchased:"
      ]
    },
    {
      "cell_type": "code",
      "metadata": {
        "id": "HuvLJECaZpBX",
        "outputId": "488c9f5e-8d6b-4c80-c7ad-155419e390ff",
        "colab": {
          "base_uri": "https://localhost:8080/",
          "height": 282
        }
      },
      "source": [
        "%matplotlib inline\n",
        "import numpy as np\n",
        "from pylab import *\n",
        "\n",
        "pageSpeeds = np.random.normal(3.0, 1.0, 1000)\n",
        "purchaseAmount = 100 - (pageSpeeds + np.random.normal(0, 0.1, 1000)) * 3\n",
        "\n",
        "scatter(pageSpeeds, purchaseAmount)"
      ],
      "execution_count": 1,
      "outputs": [
        {
          "output_type": "execute_result",
          "data": {
            "text/plain": [
              "<matplotlib.collections.PathCollection at 0x7f637e7f0438>"
            ]
          },
          "metadata": {
            "tags": []
          },
          "execution_count": 1
        },
        {
          "output_type": "display_data",
          "data": {
            "image/png": "[encoded data removed]",
            "text/plain": [
              "<Figure size 432x288 with 1 Axes>"
            ]
          },
          "metadata": {
            "tags": [],
            "needs_background": "light"
          }
        }
      ]
    },
    {
      "cell_type": "markdown",
      "metadata": {
        "id": "ebl7MCAmZpBa"
      },
      "source": [
        "As we only have two features, we can keep it simple and just use scipy.state.linregress:"
      ]
    },
    {
      "cell_type": "code",
      "metadata": {
        "id": "Q4XGRJdnZpBb"
      },
      "source": [
        "from scipy import stats\n",
        "\n",
        "slope, intercept, r_value, p_value, std_err = stats.linregress(pageSpeeds, purchaseAmount)\n"
      ],
      "execution_count": 2,
      "outputs": []
    },
    {
      "cell_type": "markdown",
      "metadata": {
        "id": "vXWsx2XBZpBe"
      },
      "source": [
        "Not surprisngly, our R-squared value shows a really good fit:"
      ]
    },
    {
      "cell_type": "code",
      "metadata": {
        "id": "T7ZfUBR7ZpBe",
        "outputId": "1951a64f-7079-4e7d-c4f2-0eee64bb51ac",
        "colab": {
          "base_uri": "https://localhost:8080/",
          "height": 34
        }
      },
      "source": [
        "r_value ** 2"
      ],
      "execution_count": 3,
      "outputs": [
        {
          "output_type": "execute_result",
          "data": {
            "text/plain": [
              "0.9900763861687332"
            ]
          },
          "metadata": {
            "tags": []
          },
          "execution_count": 3
        }
      ]
    },
    {
      "cell_type": "markdown",
      "metadata": {
        "id": "oxtj_hx0ZpBg"
      },
      "source": [
        "Let's use the slope and intercept we got from the regression to plot predicted values vs. observed:"
      ]
    },
    {
      "cell_type": "code",
      "metadata": {
        "id": "xdc5SCJeZpBh",
        "outputId": "d7425c80-8590-4839-e069-150b4fd8102c",
        "colab": {
          "base_uri": "https://localhost:8080/",
          "height": 265
        }
      },
      "source": [
        "import matplotlib.pyplot as plt\n",
        "\n",
        "def predict(x):\n",
        "    return slope * x + intercept\n",
        "\n",
        "fitLine = predict(pageSpeeds)\n",
        "\n",
        "plt.scatter(pageSpeeds, purchaseAmount)\n",
        "plt.plot(pageSpeeds, fitLine, c='r')\n",
        "plt.show()"
      ],
      "execution_count": 4,
      "outputs": [
        {
          "output_type": "display_data",
          "data": {
            "image/png": "[encoded data removed]",
            "text/plain": [
              "<Figure size 432x288 with 1 Axes>"
            ]
          },
          "metadata": {
            "tags": [],
            "needs_background": "light"
          }
        }
      ]
    },
    {
      "cell_type": "markdown",
      "metadata": {
        "id": "MMf_wVM6ZpBj"
      },
      "source": [
        "# Activity"
      ]
    },
    {
      "cell_type": "markdown",
      "metadata": {
        "id": "T8m3dXMlZpBm"
      },
      "source": [
        "Try increasing the random variation in the test data, and see what effect it has on the r-squared error value."
      ]
    },
    {
      "cell_type": "code",
      "metadata": {
        "id": "MOOAsEvNZpBn"
      },
      "source": [
        ""
      ],
      "execution_count": null,
      "outputs": []
    }
  ]
}