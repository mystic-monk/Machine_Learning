{
  "nbformat": 4,
  "nbformat_minor": 0,
  "metadata": {
    "kernelspec": {
      "display_name": "Python 2",
      "language": "python",
      "name": "python2"
    },
    "language_info": {
      "codemirror_mode": {
        "name": "ipython",
        "version": 2
      },
      "file_extension": ".py",
      "mimetype": "text/x-python",
      "name": "python",
      "nbconvert_exporter": "python",
      "pygments_lexer": "ipython2",
      "version": "2.7.11"
    },
    "colab": {
      "name": "8-CovarianceCorrelation.ipynb",
      "provenance": []
    }
  },
  "cells": [
    {
      "cell_type": "markdown",
      "metadata": {
        "id": "n0N362oRnfpE"
      },
      "source": [
        "# Covariance and Correlation"
      ]
    },
    {
      "cell_type": "markdown",
      "metadata": {
        "id": "szprklymnfpF"
      },
      "source": [
        "Covariance measures how two variables vary in tandem from their means.\n",
        "\n",
        "For example, let's say we work for an e-commerce company, and they are interested in finding a correlation between page speed (how fast each web page renders for a customer) and how much a customer spends.\n",
        "\n",
        "numpy offers covariance methods, but we'll do it the \"hard way\" to show what happens under the hood. Basically we treat each variable as a vector of deviations from the mean, and compute the \"dot product\" of both vectors. Geometrically this can be thought of as the angle between the two vectors in a high-dimensional space, but you can just think of it as a measure of similarity between the two variables.\n",
        "\n",
        "First, let's just make page speed and purchase amount totally random and independent of each other; a very small covariance will result as there is no real correlation:"
      ]
    },
    {
      "cell_type": "code",
      "metadata": {
        "id": "WptlW9GInfpH",
        "outputId": "2e498e16-a36a-4446-9509-d1a8506fc9a0",
        "colab": {
          "base_uri": "https://localhost:8080/",
          "height": 286
        }
      },
      "source": [
        "%matplotlib inline\n",
        "\n",
        "import numpy as np\n",
        "from pylab import *\n",
        "\n",
        "def de_mean(x):\n",
        "    xmean = mean(x)\n",
        "    return [xi - xmean for xi in x]\n",
        "\n",
        "def covariance(x, y):\n",
        "    n = len(x)\n",
        "    return dot(de_mean(x), de_mean(y)) / (n-1)\n",
        "\n",
        "pageSpeeds = np.random.normal(3.0, 1.0, 1000)\n",
        "purchaseAmount = np.random.normal(50.0, 10.0, 1000)\n",
        "\n",
        "scatter(pageSpeeds, purchaseAmount)\n",
        "\n",
        "covariance (pageSpeeds, purchaseAmount)\n"
      ],
      "execution_count": 11,
      "outputs": [
        {
          "output_type": "execute_result",
          "data": {
            "text/plain": [
              "-0.022425622129088902"
            ]
          },
          "metadata": {
            "tags": []
          },
          "execution_count": 11
        },
        {
          "output_type": "display_data",
          "data": {
            "image/png": "[encoded data removed]",
            "text/plain": [
              "<Figure size 432x288 with 1 Axes>"
            ]
          },
          "metadata": {
            "tags": [],
            "needs_background": "light"
          }
        }
      ]
    },
    {
      "cell_type": "markdown",
      "metadata": {
        "id": "WRQewGmFnfpO"
      },
      "source": [
        "Now we'll make our fabricated purchase amounts an actual function of page speed, making a very real correlation. The negative value indicates an inverse relationship; pages that render in less time result in more money spent:"
      ]
    },
    {
      "cell_type": "code",
      "metadata": {
        "id": "Dc8w7t9pnfpP",
        "outputId": "96fbe7f6-2cf9-4244-cf38-4390d886fda3",
        "colab": {
          "base_uri": "https://localhost:8080/",
          "height": 286
        }
      },
      "source": [
        "purchaseAmount = np.random.normal(50.0, 10.0, 1000) / pageSpeeds\n",
        "\n",
        "scatter(pageSpeeds, purchaseAmount)\n",
        "\n",
        "covariance (pageSpeeds, purchaseAmount)"
      ],
      "execution_count": 12,
      "outputs": [
        {
          "output_type": "execute_result",
          "data": {
            "text/plain": [
              "-3.8341562448271924"
            ]
          },
          "metadata": {
            "tags": []
          },
          "execution_count": 12
        },
        {
          "output_type": "display_data",
          "data": {
            "image/png": "[encoded data removed]",
            "text/plain": [
              "<Figure size 432x288 with 1 Axes>"
            ]
          },
          "metadata": {
            "tags": [],
            "needs_background": "light"
          }
        }
      ]
    },
    {
      "cell_type": "markdown",
      "metadata": {
        "id": "MyX9BvXtnfpT"
      },
      "source": [
        "But, what does this value mean? Covariance is sensitive to the units used in the variables, which makes it difficult to interpret. Correlation normalizes everything by their standard deviations, giving you an easier to understand value that ranges from -1 (for a perfect inverse correlation) to 1 (for a perfect positive correlation):"
      ]
    },
    {
      "cell_type": "code",
      "metadata": {
        "id": "CE8NCv91nfpT",
        "outputId": "a6bebb31-afb9-4223-c24a-8a468cd2bdf8",
        "colab": {
          "base_uri": "https://localhost:8080/",
          "height": 34
        }
      },
      "source": [
        "def correlation(x, y):\n",
        "    stddevx = x.std()\n",
        "    stddevy = y.std()\n",
        "    return covariance(x,y) / stddevx / stddevy  #In real life you'd check for divide by zero here\n",
        "\n",
        "correlation(pageSpeeds, purchaseAmount)"
      ],
      "execution_count": 13,
      "outputs": [
        {
          "output_type": "execute_result",
          "data": {
            "text/plain": [
              "-0.0496534716313376"
            ]
          },
          "metadata": {
            "tags": []
          },
          "execution_count": 13
        }
      ]
    },
    {
      "cell_type": "markdown",
      "metadata": {
        "id": "9kNHPN76nfpX"
      },
      "source": [
        "numpy can do all this for you with numpy.corrcoef. It returns a matrix of the correlation coefficients between every combination of the arrays passed in:"
      ]
    },
    {
      "cell_type": "code",
      "metadata": {
        "id": "sAVMc9AYnfpY",
        "outputId": "6cce418a-9ff6-4290-e847-66fab8756cce",
        "colab": {
          "base_uri": "https://localhost:8080/",
          "height": 51
        }
      },
      "source": [
        "np.corrcoef(pageSpeeds, purchaseAmount)"
      ],
      "execution_count": 14,
      "outputs": [
        {
          "output_type": "execute_result",
          "data": {
            "text/plain": [
              "array([[ 1.        , -0.04960382],\n",
              "       [-0.04960382,  1.        ]])"
            ]
          },
          "metadata": {
            "tags": []
          },
          "execution_count": 14
        }
      ]
    },
    {
      "cell_type": "markdown",
      "metadata": {
        "id": "HkYpvX4onfpd"
      },
      "source": [
        "(It doesn't match exactly just due to the math precision available on a computer.)\n",
        "\n",
        "We can force a perfect correlation by fabricating a totally linear relationship (again, it's not exactly -1 just due to precision errors, but it's close enough to tell us there's a really good correlation here):"
      ]
    },
    {
      "cell_type": "code",
      "metadata": {
        "id": "v1HxPLvUnfpe",
        "outputId": "a896a8a8-0a0e-4ec9-cec2-34736e6ed61f",
        "colab": {
          "base_uri": "https://localhost:8080/",
          "height": 286
        }
      },
      "source": [
        "purchaseAmount = 100 - pageSpeeds * 3\n",
        "\n",
        "scatter(pageSpeeds, purchaseAmount)\n",
        "\n",
        "correlation (pageSpeeds, purchaseAmount)"
      ],
      "execution_count": 15,
      "outputs": [
        {
          "output_type": "execute_result",
          "data": {
            "text/plain": [
              "-1.0010010010010013"
            ]
          },
          "metadata": {
            "tags": []
          },
          "execution_count": 15
        },
        {
          "output_type": "display_data",
          "data": {
            "image/png": "[encoded data removed]",
            "text/plain": [
              "<Figure size 432x288 with 1 Axes>"
            ]
          },
          "metadata": {
            "tags": [],
            "needs_background": "light"
          }
        }
      ]
    },
    {
      "cell_type": "markdown",
      "metadata": {
        "id": "xRpZeSgJnfph"
      },
      "source": [
        "Remember, correlation does not imply causality!"
      ]
    },
    {
      "cell_type": "markdown",
      "metadata": {
        "id": "xm1_4eZ1nfpi"
      },
      "source": [
        "## Activity"
      ]
    },
    {
      "cell_type": "markdown",
      "metadata": {
        "id": "kh-0y7Xknfpj"
      },
      "source": [
        "numpy also has a numpy.cov function that can compute Covariance for you. Try using it for the pageSpeeds and purchaseAmounts data above. Interpret its results, and compare it to the results from our own covariance function above."
      ]
    },
    {
      "cell_type": "code",
      "metadata": {
        "id": "TeLyhi8Enfpj"
      },
      "source": [
        ""
      ],
      "execution_count": null,
      "outputs": []
    }
  ]
}