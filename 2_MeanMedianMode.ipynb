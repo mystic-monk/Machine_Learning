{
  "nbformat": 4,
  "nbformat_minor": 0,
  "metadata": {
    "kernelspec": {
      "display_name": "Python 3",
      "language": "python",
      "name": "python3"
    },
    "language_info": {
      "codemirror_mode": {
        "name": "ipython",
        "version": 3
      },
      "file_extension": ".py",
      "mimetype": "text/x-python",
      "name": "python",
      "nbconvert_exporter": "python",
      "pygments_lexer": "ipython3",
      "version": "3.5.2"
    },
    "colab": {
      "name": "2-MeanMedianMode.ipynb",
      "provenance": [],
      "collapsed_sections": []
    }
  },
  "cells": [
    {
      "cell_type": "markdown",
      "metadata": {
        "deletable": true,
        "editable": true,
        "id": "8f9FXkIYPxSi"
      },
      "source": [
        "# Mean, Median, Mode, and introducing NumPy"
      ]
    },
    {
      "cell_type": "markdown",
      "metadata": {
        "deletable": true,
        "editable": true,
        "id": "t6h0k_-dPxSj"
      },
      "source": [
        "## Mean vs. Median"
      ]
    },
    {
      "cell_type": "markdown",
      "metadata": {
        "deletable": true,
        "editable": true,
        "id": "my2tWqXCPxSl"
      },
      "source": [
        "Let's create some fake income data, centered around 27,000 with a normal distribution and standard deviation of 15,000, with 10,000 data points. (We'll discuss those terms more later, if you're not familiar with them.)\n",
        "\n",
        "Then, compute the mean (average) - it should be close to 27,000:"
      ]
    },
    {
      "cell_type": "code",
      "metadata": {
        "deletable": true,
        "editable": true,
        "id": "Z9fN21yoPxSm",
        "outputId": "089ece06-5a7a-49d8-97b5-d534a8a594f1",
        "colab": {
          "base_uri": "https://localhost:8080/",
          "height": 34
        }
      },
      "source": [
        "import numpy as np\n",
        "\n",
        "incomes = np.random.normal(27000, 15000, 10000)\n",
        "np.mean(incomes)"
      ],
      "execution_count": null,
      "outputs": [
        {
          "output_type": "execute_result",
          "data": {
            "text/plain": [
              "26824.100870334194"
            ]
          },
          "metadata": {
            "tags": []
          },
          "execution_count": 14
        }
      ]
    },
    {
      "cell_type": "markdown",
      "metadata": {
        "deletable": true,
        "editable": true,
        "id": "0PW9dMeBPxS8"
      },
      "source": [
        "We can segment the income data into 50 buckets, and plot it as a histogram:"
      ]
    },
    {
      "cell_type": "code",
      "metadata": {
        "deletable": true,
        "editable": true,
        "id": "-eQvnO00PxTA",
        "outputId": "1e7aef5b-10ab-4250-95f0-87f95e9628e6",
        "colab": {
          "base_uri": "https://localhost:8080/",
          "height": 265
        }
      },
      "source": [
        "%matplotlib inline\n",
        "import matplotlib.pyplot as plt\n",
        "plt.hist(incomes, 50)\n",
        "plt.show()"
      ],
      "execution_count": null,
      "outputs": [
        {
          "output_type": "display_data",
          "data": {
            "image/png": "[encoded data removed]",
            "text/plain": [
              "<Figure size 432x288 with 1 Axes>"
            ]
          },
          "metadata": {
            "tags": [],
            "needs_background": "light"
          }
        }
      ]
    },
    {
      "cell_type": "markdown",
      "metadata": {
        "deletable": true,
        "editable": true,
        "id": "az_NPXM2PxTJ"
      },
      "source": [
        "Now compute the median - since we have a nice, even distribution it too should be close to 27,000:"
      ]
    },
    {
      "cell_type": "code",
      "metadata": {
        "deletable": true,
        "editable": true,
        "id": "FuPJK9IrPxTK",
        "outputId": "359202b6-e1a2-4c6c-f698-84478423455d",
        "colab": {
          "base_uri": "https://localhost:8080/",
          "height": 34
        }
      },
      "source": [
        "np.median(incomes)"
      ],
      "execution_count": null,
      "outputs": [
        {
          "output_type": "execute_result",
          "data": {
            "text/plain": [
              "26851.517254227696"
            ]
          },
          "metadata": {
            "tags": []
          },
          "execution_count": 16
        }
      ]
    },
    {
      "cell_type": "markdown",
      "metadata": {
        "deletable": true,
        "editable": true,
        "id": "FNjOb_UmPxTQ"
      },
      "source": [
        "Now we'll add Donald Trump into the mix. Darn income inequality!"
      ]
    },
    {
      "cell_type": "code",
      "metadata": {
        "deletable": true,
        "editable": true,
        "id": "a0WJ7sKnPxTQ"
      },
      "source": [
        "incomes = np.append(incomes, [1000000000])"
      ],
      "execution_count": null,
      "outputs": []
    },
    {
      "cell_type": "markdown",
      "metadata": {
        "deletable": true,
        "editable": true,
        "id": "3OnErhh7PxTT"
      },
      "source": [
        "The median won't change much, but the mean does:"
      ]
    },
    {
      "cell_type": "code",
      "metadata": {
        "deletable": true,
        "editable": true,
        "id": "NifA--bNPxTU",
        "outputId": "df416c73-8ea5-4811-a06e-2373cca9a6d4",
        "colab": {
          "base_uri": "https://localhost:8080/",
          "height": 34
        }
      },
      "source": [
        "np.median(incomes)"
      ],
      "execution_count": null,
      "outputs": [
        {
          "output_type": "execute_result",
          "data": {
            "text/plain": [
              "26851.588625169818"
            ]
          },
          "metadata": {
            "tags": []
          },
          "execution_count": 18
        }
      ]
    },
    {
      "cell_type": "code",
      "metadata": {
        "deletable": true,
        "editable": true,
        "id": "zuypOgxoPxTX",
        "outputId": "cc347c48-2b46-421f-c4b7-2e60066027f7",
        "colab": {
          "base_uri": "https://localhost:8080/",
          "height": 34
        }
      },
      "source": [
        "np.mean(incomes)"
      ],
      "execution_count": null,
      "outputs": [
        {
          "output_type": "execute_result",
          "data": {
            "text/plain": [
              "126811.41972836136"
            ]
          },
          "metadata": {
            "tags": []
          },
          "execution_count": 19
        }
      ]
    },
    {
      "cell_type": "markdown",
      "metadata": {
        "deletable": true,
        "editable": true,
        "id": "u7zYEGWyPxTb"
      },
      "source": [
        "## Mode"
      ]
    },
    {
      "cell_type": "markdown",
      "metadata": {
        "deletable": true,
        "editable": true,
        "id": "RuMLMcHgPxTc"
      },
      "source": [
        "Next, let's generate some fake age data for 500 people:"
      ]
    },
    {
      "cell_type": "code",
      "metadata": {
        "deletable": true,
        "editable": true,
        "id": "h6Zvsw3PPxTc",
        "outputId": "29cd6ac0-e475-400c-e2ca-daf38094d506",
        "colab": {
          "base_uri": "https://localhost:8080/",
          "height": 527
        }
      },
      "source": [
        "ages = np.random.randint(18, high=90, size=500)\n",
        "ages"
      ],
      "execution_count": null,
      "outputs": [
        {
          "output_type": "execute_result",
          "data": {
            "text/plain": [
              "array([42, 84, 35, 85, 89, 87, 52, 59, 27, 44, 87, 57, 69, 54, 49, 34, 66,\n",
              "       80, 45, 58, 19, 62, 39, 88, 43, 36, 38, 65, 41, 88, 53, 86, 85, 67,\n",
              "       24, 52, 42, 80, 23, 71, 53, 58, 64, 62, 33, 41, 88, 45, 47, 74, 21,\n",
              "       39, 75, 81, 41, 57, 62, 60, 42, 42, 42, 52, 62, 59, 42, 34, 38, 31,\n",
              "       44, 64, 35, 58, 22, 65, 76, 38, 23, 21, 51, 86, 83, 86, 28, 88, 53,\n",
              "       43, 33, 60, 47, 77, 78, 33, 33, 21, 41, 84, 27, 24, 70, 85, 70, 37,\n",
              "       43, 73, 85, 26, 86, 79, 28, 27, 18, 68, 65, 38, 24, 87, 52, 60, 37,\n",
              "       50, 30, 71, 59, 43, 72, 28, 38, 40, 18, 39, 53, 56, 33, 88, 72, 83,\n",
              "       25, 65, 25, 84, 71, 82, 18, 39, 43, 40, 76, 89, 26, 68, 66, 52, 48,\n",
              "       40, 18, 45, 77, 80, 23, 43, 81, 43, 72, 83, 52, 41, 34, 62, 26, 30,\n",
              "       70, 86, 82, 64, 49, 40, 41, 47, 65, 23, 32, 23, 24, 42, 39, 82, 56,\n",
              "       38, 53, 78, 80, 64, 57, 23, 49, 35, 38, 28, 37, 46, 38, 49, 26, 76,\n",
              "       56, 68, 18, 43, 64, 60, 23, 49, 35, 27, 65, 56, 58, 53, 51, 37, 40,\n",
              "       59, 52, 45, 46, 79, 70, 57, 32, 53, 21, 83, 34, 76, 29, 24, 80, 69,\n",
              "       88, 71, 65, 50, 74, 54, 37, 26, 47, 82, 86, 28, 23, 88, 72, 31, 30,\n",
              "       87, 82, 85, 36, 80, 76, 57, 62, 27, 71, 60, 47, 33, 29, 40, 55, 57,\n",
              "       28, 78, 25, 37, 88, 25, 31, 56, 28, 50, 85, 73, 82, 57, 65, 33, 51,\n",
              "       77, 65, 68, 53, 46, 67, 49, 85, 53, 72, 83, 43, 38, 68, 37, 30, 81,\n",
              "       84, 87, 24, 70, 19, 83, 42, 60, 36, 89, 68, 37, 54, 66, 42, 68, 70,\n",
              "       40, 21, 47, 27, 81, 46, 64, 31, 56, 53, 31, 32, 32, 28, 32, 45, 22,\n",
              "       28, 59, 73, 70, 49, 78, 30, 77, 68, 41, 24, 79, 28, 61, 25, 64, 70,\n",
              "       66, 59, 49, 25, 44, 81, 65, 21, 44, 42, 88, 41, 26, 71, 89, 80, 20,\n",
              "       73, 72, 86, 30, 48, 74, 67, 56, 56, 20, 41, 72, 60, 81, 64, 59, 86,\n",
              "       33, 26, 48, 59, 70, 31, 24, 65, 55, 42, 67, 62, 70, 45, 28, 29, 25,\n",
              "       49, 68, 26, 73, 81, 63, 29, 21, 66, 85, 54, 65, 42, 19, 32, 44, 22,\n",
              "       51, 86, 58, 62, 74, 63, 61, 65, 78, 46, 74, 20, 89, 85, 23, 58, 69,\n",
              "       53, 76, 38, 47, 53, 45, 66, 88, 69, 43, 47, 25, 41, 31, 41, 44, 55,\n",
              "       77, 75, 79, 27, 43, 20, 78, 68, 24, 73, 36, 18, 27, 85, 30, 27, 24,\n",
              "       88, 24, 32, 89, 50, 55, 51, 28, 64, 72, 47, 79, 60, 32, 27, 84, 53,\n",
              "       71, 72, 31, 85, 51, 37, 18])"
            ]
          },
          "metadata": {
            "tags": []
          },
          "execution_count": 22
        }
      ]
    },
    {
      "cell_type": "code",
      "metadata": {
        "deletable": true,
        "editable": true,
        "id": "T-CGyC7pPxTf",
        "outputId": "58a422eb-b855-4475-b309-902a64f701fe",
        "colab": {
          "base_uri": "https://localhost:8080/",
          "height": 34
        }
      },
      "source": [
        "from scipy import stats\n",
        "stats.mode(ages)"
      ],
      "execution_count": null,
      "outputs": [
        {
          "output_type": "execute_result",
          "data": {
            "text/plain": [
              "ModeResult(mode=array([53]), count=array([13]))"
            ]
          },
          "metadata": {
            "tags": []
          },
          "execution_count": 23
        }
      ]
    }
  ]
}