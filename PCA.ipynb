{
  "nbformat": 4,
  "nbformat_minor": 0,
  "metadata": {
    "kernelspec": {
      "display_name": "Python 3",
      "language": "python",
      "name": "python3"
    },
    "language_info": {
      "codemirror_mode": {
        "name": "ipython",
        "version": 3
      },
      "file_extension": ".py",
      "mimetype": "text/x-python",
      "name": "python",
      "nbconvert_exporter": "python",
      "pygments_lexer": "ipython3",
      "version": "3.7.3"
    },
    "colab": {
      "name": "PCA.ipynb",
      "provenance": []
    }
  },
  "cells": [
    {
      "cell_type": "markdown",
      "metadata": {
        "id": "VY55C6l4J-b0"
      },
      "source": [
        "# Principal Component Analysis"
      ]
    },
    {
      "cell_type": "markdown",
      "metadata": {
        "id": "UH2fXqY2J-b1"
      },
      "source": [
        "PCA is a dimensionality reduction technique; it lets you distill multi-dimensional data down to fewer dimensions, selecting new dimensions that preserve variance in the data as best it can.\n",
        "\n",
        "We're not talking about Star Trek stuff here; let's make it real - a black & white image for example, contains three dimensions of data: X position, Y position, and brightness at each point. Distilling that down to two dimensions can be useful for things like image compression and facial recognition, because it distills out the information that contributes most to the variance in the data set.\n",
        "\n",
        "Let's do this with a simpler example: the Iris data set that comes with scikit-learn. It's just a small collection of data that has four dimensions of data for three different kinds of Iris flowers: The length and width of both the petals and sepals of many individual flowers from each species. Let's load it up and have a look:"
      ]
    },
    {
      "cell_type": "code",
      "metadata": {
        "id": "20rGK_b_J-b2",
        "outputId": "633cc539-a8ef-46ba-ba50-1fedb2319740",
        "colab": {
          "base_uri": "https://localhost:8080/"
        }
      },
      "source": [
        "from sklearn.datasets import load_iris\n",
        "from sklearn.decomposition import PCA\n",
        "import pylab as pl\n",
        "from itertools import cycle\n",
        "\n",
        "iris = load_iris()\n",
        "\n",
        "numSamples, numFeatures = iris.data.shape\n",
        "print(numSamples)\n",
        "print(numFeatures)\n",
        "print(list(iris.target_names))"
      ],
      "execution_count": 1,
      "outputs": [
        {
          "output_type": "stream",
          "text": [
            "150\n",
            "4\n",
            "['setosa', 'versicolor', 'virginica']\n"
          ],
          "name": "stdout"
        }
      ]
    },
    {
      "cell_type": "markdown",
      "metadata": {
        "id": "Do4Tf2rxJ-b7"
      },
      "source": [
        "So, this tells us our data set has 150 samples (individual flowers) in it. It has 4 dimensions - called features here, and three distinct Iris species that each flower is classified into.\n",
        "\n",
        "While we can visualize 2 or even 3 dimensions of data pretty easily, visualizing 4D data isn't something our brains can do. So let's distill this down to 2 dimensions, and see how well it works:"
      ]
    },
    {
      "cell_type": "code",
      "metadata": {
        "id": "IVlkLPufJ-b8"
      },
      "source": [
        "X = iris.data\n",
        "pca = PCA(n_components=2, whiten=True).fit(X)\n",
        "X_pca = pca.transform(X)"
      ],
      "execution_count": 2,
      "outputs": []
    },
    {
      "cell_type": "markdown",
      "metadata": {
        "id": "D6qRZv8tJ-b_"
      },
      "source": [
        "What we have done is distill our 4D data set down to 2D, by projecting it down to two orthogonal 4D vectors that make up the basis of our new 2D projection. We can see what those 4D vectors are, although it's not something you can really wrap your head around:"
      ]
    },
    {
      "cell_type": "code",
      "metadata": {
        "id": "h5tHrFeWJ-b_",
        "outputId": "645ce22c-01f5-4736-dd07-438997673bea",
        "colab": {
          "base_uri": "https://localhost:8080/"
        }
      },
      "source": [
        "print(pca.components_)"
      ],
      "execution_count": 3,
      "outputs": [
        {
          "output_type": "stream",
          "text": [
            "[[ 0.36138659 -0.08452251  0.85667061  0.3582892 ]\n",
            " [ 0.65658877  0.73016143 -0.17337266 -0.07548102]]\n"
          ],
          "name": "stdout"
        }
      ]
    },
    {
      "cell_type": "markdown",
      "metadata": {
        "id": "30RWKbqcJ-cC"
      },
      "source": [
        "Let's see how much information we've managed to preserve:"
      ]
    },
    {
      "cell_type": "code",
      "metadata": {
        "id": "4MyDX2YsJ-cC",
        "outputId": "f1105eb4-5f35-45e9-edba-f42f190cc09c",
        "colab": {
          "base_uri": "https://localhost:8080/"
        }
      },
      "source": [
        "print(pca.explained_variance_ratio_)\n",
        "print(sum(pca.explained_variance_ratio_))"
      ],
      "execution_count": 4,
      "outputs": [
        {
          "output_type": "stream",
          "text": [
            "[0.92461872 0.05306648]\n",
            "0.977685206318795\n"
          ],
          "name": "stdout"
        }
      ]
    },
    {
      "cell_type": "markdown",
      "metadata": {
        "id": "fsrIIQBBJ-cF"
      },
      "source": [
        "That's pretty cool. Although we have thrown away two of our four dimensions, PCA has chosen the remaining two dimensions well enough that we've captured 92% of the variance in our data in a single dimension alone! The second dimension just gives us an additional 5%; altogether we've only really lost less than 3% of the variance in our data by projecting it down to two dimensions.\n",
        "\n",
        "As promised, now that we have a 2D representation of our data, we can plot it:"
      ]
    },
    {
      "cell_type": "code",
      "metadata": {
        "id": "vQiK0Y-qJ-cF",
        "outputId": "df240461-23d3-466c-d81f-bf40d00df3e5",
        "colab": {
          "base_uri": "https://localhost:8080/",
          "height": 267
        }
      },
      "source": [
        "%matplotlib inline\n",
        "from pylab import *\n",
        "\n",
        "colors = cycle('rgb')\n",
        "target_ids = range(len(iris.target_names))\n",
        "pl.figure()\n",
        "for i, c, label in zip(target_ids, colors, iris.target_names):\n",
        "    pl.scatter(X_pca[iris.target == i, 0], X_pca[iris.target == i, 1],\n",
        "        c=c, label=label)\n",
        "pl.legend()\n",
        "pl.show()\n",
        "    "
      ],
      "execution_count": 5,
      "outputs": [
        {
          "output_type": "display_data",
          "data": {
            "image/png": "[encoded data removed]",
            "text/plain": [
              "<Figure size 432x288 with 1 Axes>"
            ]
          },
          "metadata": {
            "tags": [],
            "needs_background": "light"
          }
        }
      ]
    },
    {
      "cell_type": "markdown",
      "metadata": {
        "id": "PLjWh-3hJ-cI"
      },
      "source": [
        "You can see the three different types of Iris are still clustered pretty well. If you think about it, this probably works well because the overall size of an individual flower probably makes both the petal and sepal sizes increase by a similar amount. Although the actual numbers on this graph have no intuitive meaning, what we're probably seeing is measure of the ratio of width to height for petals and sepals - and PCA distilled our data down to that on its own."
      ]
    },
    {
      "cell_type": "markdown",
      "metadata": {
        "id": "jF-G4zNAJ-cI"
      },
      "source": [
        "## Activity"
      ]
    },
    {
      "cell_type": "markdown",
      "metadata": {
        "id": "o-AIgpWPJ-cJ"
      },
      "source": [
        "Our results suggest we could actually distill this data down to a single dimension and still preserve most of its variance. Try it! Do a PCA down to one component, and measure the results."
      ]
    },
    {
      "cell_type": "code",
      "metadata": {
        "id": "M1HeLQJUJ-cJ"
      },
      "source": [
        ""
      ],
      "execution_count": null,
      "outputs": []
    }
  ]
}