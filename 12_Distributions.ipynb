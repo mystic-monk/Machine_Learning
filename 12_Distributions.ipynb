{
  "nbformat": 4,
  "nbformat_minor": 0,
  "metadata": {
    "kernelspec": {
      "display_name": "Python 3",
      "language": "python",
      "name": "python3"
    },
    "language_info": {
      "codemirror_mode": {
        "name": "ipython",
        "version": 3
      },
      "file_extension": ".py",
      "mimetype": "text/x-python",
      "name": "python",
      "nbconvert_exporter": "python",
      "pygments_lexer": "ipython3",
      "version": "3.7.3"
    },
    "colab": {
      "name": "12-Distributions.ipynb",
      "provenance": []
    }
  },
  "cells": [
    {
      "cell_type": "markdown",
      "metadata": {
        "id": "Gbj2_96cfTaf"
      },
      "source": [
        "# Examples of Data Distributions"
      ]
    },
    {
      "cell_type": "markdown",
      "metadata": {
        "id": "9UWW1fw2fTag"
      },
      "source": [
        "## Uniform Distribution"
      ]
    },
    {
      "cell_type": "code",
      "metadata": {
        "id": "SVEoNSZDfTah",
        "outputId": "6974b17e-1eda-45d9-bd61-9942bf80fea9",
        "colab": {
          "base_uri": "https://localhost:8080/",
          "height": 265
        }
      },
      "source": [
        "%matplotlib inline\n",
        "\n",
        "import numpy as np\n",
        "import matplotlib.pyplot as plt\n",
        "\n",
        "values = np.random.uniform(-10.0, 10.0, 100000)\n",
        "plt.hist(values, 50)\n",
        "plt.show()"
      ],
      "execution_count": 1,
      "outputs": [
        {
          "output_type": "display_data",
          "data": {
            "image/png": "[encoded data removed]",
            "text/plain": [
              "<Figure size 432x288 with 1 Axes>"
            ]
          },
          "metadata": {
            "tags": [],
            "needs_background": "light"
          }
        }
      ]
    },
    {
      "cell_type": "markdown",
      "metadata": {
        "id": "LMR2fIH7fTal"
      },
      "source": [
        "## Normal / Gaussian"
      ]
    },
    {
      "cell_type": "markdown",
      "metadata": {
        "id": "bYUgCRzifTam"
      },
      "source": [
        "Visualize the probability density function:"
      ]
    },
    {
      "cell_type": "code",
      "metadata": {
        "id": "hKqQd3p1fTam",
        "outputId": "8d56202c-af91-4b99-bea8-d104f2391cf4",
        "colab": {
          "base_uri": "https://localhost:8080/",
          "height": 282
        }
      },
      "source": [
        "from scipy.stats import norm\n",
        "import matplotlib.pyplot as plt\n",
        "\n",
        "x = np.arange(-3, 3, 0.001)\n",
        "plt.plot(x, norm.pdf(x))\n"
      ],
      "execution_count": 2,
      "outputs": [
        {
          "output_type": "execute_result",
          "data": {
            "text/plain": [
              "[<matplotlib.lines.Line2D at 0x7f0b78dd8a58>]"
            ]
          },
          "metadata": {
            "tags": []
          },
          "execution_count": 2
        },
        {
          "output_type": "display_data",
          "data": {
            "image/png": "[encoded data removed]",
            "text/plain": [
              "<Figure size 432x288 with 1 Axes>"
            ]
          },
          "metadata": {
            "tags": [],
            "needs_background": "light"
          }
        }
      ]
    },
    {
      "cell_type": "markdown",
      "metadata": {
        "id": "OivvSwG2fTap"
      },
      "source": [
        "Generate some random numbers with a normal distribution. \"mu\" is the desired mean, \"sigma\" is the standard deviation:"
      ]
    },
    {
      "cell_type": "code",
      "metadata": {
        "id": "q0esNmQUfTap",
        "outputId": "20694622-4ec1-498a-c103-74baad0a2139",
        "colab": {
          "base_uri": "https://localhost:8080/",
          "height": 265
        }
      },
      "source": [
        "import numpy as np\n",
        "import matplotlib.pyplot as plt\n",
        "\n",
        "mu = 5.0\n",
        "sigma = 2.0\n",
        "values = np.random.normal(mu, sigma, 10000)\n",
        "plt.hist(values, 50)\n",
        "plt.show()"
      ],
      "execution_count": 3,
      "outputs": [
        {
          "output_type": "display_data",
          "data": {
            "image/png": "[encoded data removed]",
            "text/plain": [
              "<Figure size 432x288 with 1 Axes>"
            ]
          },
          "metadata": {
            "tags": [],
            "needs_background": "light"
          }
        }
      ]
    },
    {
      "cell_type": "markdown",
      "metadata": {
        "id": "4FnsIhXTfTas"
      },
      "source": [
        "## Exponential PDF / \"Power Law\""
      ]
    },
    {
      "cell_type": "code",
      "metadata": {
        "id": "ociCWPE6fTas",
        "outputId": "f975928e-b2cf-4b95-91ac-34e836b1dbf0",
        "colab": {
          "base_uri": "https://localhost:8080/",
          "height": 282
        }
      },
      "source": [
        "from scipy.stats import expon\n",
        "import matplotlib.pyplot as plt\n",
        "\n",
        "x = np.arange(0, 10, 0.001)\n",
        "plt.plot(x, expon.pdf(x))"
      ],
      "execution_count": 4,
      "outputs": [
        {
          "output_type": "execute_result",
          "data": {
            "text/plain": [
              "[<matplotlib.lines.Line2D at 0x7f0b78c3f5c0>]"
            ]
          },
          "metadata": {
            "tags": []
          },
          "execution_count": 4
        },
        {
          "output_type": "display_data",
          "data": {
            "image/png": "[encoded data removed]",
            "text/plain": [
              "<Figure size 432x288 with 1 Axes>"
            ]
          },
          "metadata": {
            "tags": [],
            "needs_background": "light"
          }
        }
      ]
    },
    {
      "cell_type": "markdown",
      "metadata": {
        "id": "CXHtfPdnfTaw"
      },
      "source": [
        "## Binomial Probability Mass Function"
      ]
    },
    {
      "cell_type": "code",
      "metadata": {
        "id": "K4RyVN83fTaw",
        "outputId": "2c4c1127-375c-4361-fb4a-82d8ddf7f6dd",
        "colab": {
          "base_uri": "https://localhost:8080/",
          "height": 283
        }
      },
      "source": [
        "from scipy.stats import binom\n",
        "import matplotlib.pyplot as plt\n",
        "\n",
        "n, p = 25, 0.5\n",
        "x = np.arange(0, 25, 0.001)\n",
        "plt.plot(x, binom.pmf(x, n, p))"
      ],
      "execution_count": 5,
      "outputs": [
        {
          "output_type": "execute_result",
          "data": {
            "text/plain": [
              "[<matplotlib.lines.Line2D at 0x7f0b78b9c978>]"
            ]
          },
          "metadata": {
            "tags": []
          },
          "execution_count": 5
        },
        {
          "output_type": "display_data",
          "data": {
            "image/png": "[encoded data removed]",
            "text/plain": [
              "<Figure size 432x288 with 1 Axes>"
            ]
          },
          "metadata": {
            "tags": [],
            "needs_background": "light"
          }
        }
      ]
    },
    {
      "cell_type": "markdown",
      "metadata": {
        "id": "j2Tebc7pfTaz"
      },
      "source": [
        "## Poisson Probability Mass Function"
      ]
    },
    {
      "cell_type": "markdown",
      "metadata": {
        "id": "eBOx-PLmfTa0"
      },
      "source": [
        "Example: My website gets on average 500 visits per day. What's the odds of getting 550?"
      ]
    },
    {
      "cell_type": "code",
      "metadata": {
        "id": "AsvcAaqlfTa0",
        "outputId": "7c5c976d-7c35-4d18-bd38-b48e10a425d8",
        "colab": {
          "base_uri": "https://localhost:8080/",
          "height": 282
        }
      },
      "source": [
        "from scipy.stats import poisson\n",
        "import matplotlib.pyplot as plt\n",
        "\n",
        "mu = 500\n",
        "x = np.arange(400, 600, 0.5)\n",
        "plt.plot(x, poisson.pmf(x, mu))"
      ],
      "execution_count": 6,
      "outputs": [
        {
          "output_type": "execute_result",
          "data": {
            "text/plain": [
              "[<matplotlib.lines.Line2D at 0x7f0b78be3e80>]"
            ]
          },
          "metadata": {
            "tags": []
          },
          "execution_count": 6
        },
        {
          "output_type": "display_data",
          "data": {
            "image/png": "[encoded data removed]",
            "text/plain": [
              "<Figure size 432x288 with 1 Axes>"
            ]
          },
          "metadata": {
            "tags": [],
            "needs_background": "light"
          }
        }
      ]
    },
    {
      "cell_type": "markdown",
      "metadata": {
        "id": "t3I5wP0qfTa4"
      },
      "source": [
        "## Pop Quiz!"
      ]
    },
    {
      "cell_type": "markdown",
      "metadata": {
        "id": "Qci2B12vfTa4"
      },
      "source": [
        "What's the equivalent of a probability distribution function when using discrete instead of continuous data?"
      ]
    },
    {
      "cell_type": "code",
      "metadata": {
        "id": "-aLgagOYfTa5"
      },
      "source": [
        ""
      ],
      "execution_count": null,
      "outputs": []
    }
  ]
}